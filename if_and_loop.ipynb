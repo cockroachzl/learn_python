{
 "cells": [
  {
   "cell_type": "code",
   "execution_count": 1,
   "metadata": {},
   "outputs": [
    {
     "name": "stdout",
     "output_type": "stream",
     "text": [
      "1,1,2,3,5,8,"
     ]
    },
    {
     "data": {
      "text/plain": [
       "[]"
      ]
     },
     "execution_count": 1,
     "metadata": {},
     "output_type": "execute_result"
    }
   ],
   "source": [
    "a, b = 0, 1\n",
    "fib = []\n",
    "while b < 10:\n",
    "#     fib.append(b)\n",
    "    print(b, end=',')\n",
    "    a, b = b, a+b\n",
    "fib\n",
    "\n",
    "# For multiple assignments, the expressions on the right-hand side are all evaluated first before any of the assignments take place. \n",
    "# The right-hand side expressions are evaluated from the left to the right.\n",
    "# In Python, like in C, any non-zero integer value is true; zero is false. \n",
    "# The condition may also be a string or list value, in fact any sequence; anything with a non-zero length is true, empty sequences are false."
   ]
  },
  {
   "cell_type": "code",
   "execution_count": 21,
   "metadata": {},
   "outputs": [
    {
     "name": "stdout",
     "output_type": "stream",
     "text": [
      "The value of i is 65536\n"
     ]
    }
   ],
   "source": [
    "i = 256*256\n",
    "print('The value of i is', i)"
   ]
  },
  {
   "cell_type": "code",
   "execution_count": 1,
   "metadata": {},
   "outputs": [],
   "source": [
    "x = int(input(\"Please enter an integer: \"))"
   ]
  },
  {
   "cell_type": "code",
   "execution_count": 2,
   "metadata": {},
   "outputs": [
    {
     "name": "stdout",
     "output_type": "stream",
     "text": [
      "Negative changed to zero\n"
     ]
    }
   ],
   "source": [
    "if x < 0:\n",
    "    x = 0\n",
    "    print('Negative changed to zero')\n",
    "elif x == 0:\n",
    "    print('Zero')\n",
    "elif x == 1:\n",
    "    print('Single')\n",
    "else:\n",
    "    print('More')"
   ]
  },
  {
   "cell_type": "code",
   "execution_count": 4,
   "metadata": {},
   "outputs": [
    {
     "name": "stdout",
     "output_type": "stream",
     "text": [
      "rx570 5\n",
      "rx580 5\n",
      "gtx1080 7\n",
      "gtx1080ti 9\n"
     ]
    }
   ],
   "source": [
    "gpus = ['rx570', 'rx580', 'gtx1080', 'gtx1080ti']\n",
    "for gpu in gpus:\n",
    "    print(gpu, len(gpu))"
   ]
  },
  {
   "cell_type": "code",
   "execution_count": 5,
   "metadata": {},
   "outputs": [
    {
     "name": "stdout",
     "output_type": "stream",
     "text": [
      "rx570 5\n",
      "rx580 5\n",
      "gtx1080 7\n",
      "gtx1080ti 9\n"
     ]
    }
   ],
   "source": [
    "gpus = ['rx570', 'rx580', 'gtx1080', 'gtx1080ti']\n",
    "for gpu in gpus[:]: # make a copy so gpus could be changed\n",
    "    print(gpu, len(gpu))"
   ]
  },
  {
   "cell_type": "code",
   "execution_count": 8,
   "metadata": {},
   "outputs": [
    {
     "name": "stdout",
     "output_type": "stream",
     "text": [
      "0 rx570 5\n",
      "1 rx580 5\n",
      "2 gtx1080 7\n",
      "3 gtx1080ti 9\n"
     ]
    }
   ],
   "source": [
    "for i in range(len(gpus)):\n",
    "    print(i, gpus[i], len(gpus[i]))"
   ]
  },
  {
   "cell_type": "code",
   "execution_count": 12,
   "metadata": {},
   "outputs": [
    {
     "data": {
      "text/plain": [
       "[6]"
      ]
     },
     "execution_count": 12,
     "metadata": {},
     "output_type": "execute_result"
    }
   ],
   "source": [
    "list(range(6,7))"
   ]
  },
  {
   "cell_type": "markdown",
   "metadata": {},
   "source": [
    "# Looping techniques"
   ]
  },
  {
   "cell_type": "markdown",
   "metadata": {},
   "source": [
    "## loop dict"
   ]
  },
  {
   "cell_type": "code",
   "execution_count": 14,
   "metadata": {},
   "outputs": [
    {
     "name": "stdout",
     "output_type": "stream",
     "text": [
      "amd rx570\n",
      "nvidia gtx1080\n",
      "amd\n",
      "nvidia\n"
     ]
    }
   ],
   "source": [
    "gpus = {'amd': 'rx570', 'nvidia': 'gtx1080'}\n",
    "for k, v in gpus.items():\n",
    "    print(k, v)\n",
    "    \n",
    "for k in gpus:\n",
    "    print(k)"
   ]
  },
  {
   "cell_type": "markdown",
   "metadata": {},
   "source": [
    "## loop sequence"
   ]
  },
  {
   "cell_type": "code",
   "execution_count": 4,
   "metadata": {},
   "outputs": [
    {
     "name": "stdout",
     "output_type": "stream",
     "text": [
      "0 rx570\n",
      "1 rx580\n",
      "2 gtx1080\n"
     ]
    }
   ],
   "source": [
    "gpus = ['rx570', 'rx580', 'gtx1080']\n",
    "for i, v in enumerate(gpus):\n",
    "    print(i, v)"
   ]
  },
  {
   "cell_type": "markdown",
   "metadata": {},
   "source": [
    "## Loop multiple sequences"
   ]
  },
  {
   "cell_type": "code",
   "execution_count": 8,
   "metadata": {},
   "outputs": [
    {
     "name": "stdout",
     "output_type": "stream",
     "text": [
      "amd rx570\n",
      "nvidia gtx1080\n"
     ]
    }
   ],
   "source": [
    "gpu_companies = ['amd', 'nvidia']\n",
    "gpu_models = ['rx570', 'gtx1080']\n",
    "for c, m in zip(gpu_companies, gpu_models):\n",
    "    print (c,m)"
   ]
  },
  {
   "cell_type": "markdown",
   "metadata": {},
   "source": [
    "## Loop over a sequence in reverse"
   ]
  },
  {
   "cell_type": "code",
   "execution_count": 10,
   "metadata": {},
   "outputs": [
    {
     "name": "stdout",
     "output_type": "stream",
     "text": [
      "9\n",
      "8\n",
      "7\n",
      "6\n",
      "5\n",
      "4\n",
      "3\n",
      "2\n",
      "1\n",
      "0\n"
     ]
    }
   ],
   "source": [
    "for i in reversed(range(10)):\n",
    "    print(i)"
   ]
  },
  {
   "cell_type": "markdown",
   "metadata": {},
   "source": [
    "## Loop over a sorted sequence"
   ]
  },
  {
   "cell_type": "code",
   "execution_count": 11,
   "metadata": {},
   "outputs": [
    {
     "name": "stdout",
     "output_type": "stream",
     "text": [
      "37.1\n",
      "280.0\n",
      "560\n"
     ]
    }
   ],
   "source": [
    "prices = [280.0,37.1,560]\n",
    "for p in sorted(prices):\n",
    "    print(p)"
   ]
  },
  {
   "cell_type": "code",
   "execution_count": 12,
   "metadata": {},
   "outputs": [
    {
     "name": "stdout",
     "output_type": "stream",
     "text": [
      "560\n",
      "280.0\n",
      "37.1\n"
     ]
    }
   ],
   "source": [
    "prices = [280.0,37.1,560]\n",
    "for p in reversed(sorted(prices)):\n",
    "    print(p)"
   ]
  },
  {
   "cell_type": "code",
   "execution_count": 13,
   "metadata": {},
   "outputs": [
    {
     "name": "stdout",
     "output_type": "stream",
     "text": [
      "amd huawei intel nvidia qualcomm "
     ]
    }
   ],
   "source": [
    "names = ['intel','qualcomm','huawei','amd','nvidia']\n",
    "for n in sorted(names):\n",
    "    print(n, end=' ')"
   ]
  }
 ],
 "metadata": {
  "kernelspec": {
   "display_name": "Python 3",
   "language": "python",
   "name": "python3"
  },
  "language_info": {
   "codemirror_mode": {
    "name": "ipython",
    "version": 3
   },
   "file_extension": ".py",
   "mimetype": "text/x-python",
   "name": "python",
   "nbconvert_exporter": "python",
   "pygments_lexer": "ipython3",
   "version": "3.6.3"
  }
 },
 "nbformat": 4,
 "nbformat_minor": 2
}
